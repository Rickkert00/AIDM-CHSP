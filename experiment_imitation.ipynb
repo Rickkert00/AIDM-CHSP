{
 "cells": [
  {
   "cell_type": "code",
   "execution_count": 3,
   "outputs": [],
   "source": [
    "from minizinc import Instance, Model, Solver\n",
    "import os"
   ],
   "metadata": {
    "collapsed": false,
    "pycharm": {
     "name": "#%%\n"
    }
   }
  },
  {
   "cell_type": "code",
   "execution_count": 23,
   "outputs": [],
   "source": [
    "async def run_instance_async(data_file, solver_name, other_params={}, do_print=True):\n",
    "  params = {'MaxPeriod_c': 999999999}\n",
    "  # override default params with other_params\n",
    "  for param, v in other_params.items():\n",
    "    params[param] = v\n",
    "  model = Model(\"modelFiles/wallace-hoist_cpaior20-submission.mzn\")\n",
    "  # Get the model/data files\n",
    "  model.add_file(data_file)\n",
    "  # Add params to model\n",
    "  for param, v in params.items():\n",
    "    model[param] = v\n",
    "  solver = Solver.lookup(solver_name)\n",
    "  instance = Instance(solver, model)\n",
    "  result = await instance.solve_async(intermediate_solutions=True)\n",
    "  if len(result) == 0:\n",
    "    print(\"Warning no results found\")\n",
    "    return -1\n",
    "  return result[len(result) - 1].objective, result.statistics[\"solveTime\"]"
   ],
   "metadata": {
    "collapsed": false,
    "pycharm": {
     "name": "#%%\n"
    }
   }
  },
  {
   "cell_type": "code",
   "execution_count": 4,
   "outputs": [
    {
     "name": "stderr",
     "output_type": "stream",
     "text": [
      "/home/gijs/code_projects/AIDM-CHSP/venv/lib/python3.8/site-packages/minizinc/json.py:91: MiniZincWarning: file \"PU.dzn\" included from library, but also exists in current working directory.\n",
      "  warnings.warn(obj[\"message\"], MiniZincWarning)\n",
      "/home/gijs/code_projects/AIDM-CHSP/venv/lib/python3.8/site-packages/minizinc/json.py:91: MiniZincWarning: variable `k` shadows variable with the same name in line 86.66\n",
      "  warnings.warn(obj[\"message\"], MiniZincWarning)\n"
     ]
    },
    {
     "ename": "CancelledError",
     "evalue": "",
     "output_type": "error",
     "traceback": [
      "\u001B[0;31m---------------------------------------------------------------------------\u001B[0m",
      "\u001B[0;31mCancelledError\u001B[0m                            Traceback (most recent call last)",
      "Input \u001B[0;32mIn [4]\u001B[0m, in \u001B[0;36m<cell line: 10>\u001B[0;34m()\u001B[0m\n\u001B[1;32m      7\u001B[0m secs \u001B[38;5;241m=\u001B[39m []\n\u001B[1;32m      8\u001B[0m f \u001B[38;5;241m=\u001B[39m files[\u001B[38;5;241m0\u001B[39m]\n\u001B[0;32m---> 10\u001B[0m obj, sec \u001B[38;5;241m=\u001B[39m \u001B[38;5;28;01mawait\u001B[39;00m run_instance_async(DATA_FOLDER\u001B[38;5;241m+\u001B[39mf, \u001B[38;5;124m\"\u001B[39m\u001B[38;5;124mgecode\u001B[39m\u001B[38;5;124m\"\u001B[39m, {\u001B[38;5;124m'\u001B[39m\u001B[38;5;124mMaxPeriod_c\u001B[39m\u001B[38;5;124m'\u001B[39m: \u001B[38;5;241m9999999\u001B[39m}, do_print\u001B[38;5;241m=\u001B[39m\u001B[38;5;28;01mFalse\u001B[39;00m)\n\u001B[1;32m     11\u001B[0m \u001B[38;5;28mprint\u001B[39m(obj, sec)\n\u001B[1;32m     13\u001B[0m obj, sec \u001B[38;5;241m=\u001B[39m \u001B[38;5;28;01mawait\u001B[39;00m run_instance_async(DATA_FOLDER\u001B[38;5;241m+\u001B[39mf, \u001B[38;5;124m\"\u001B[39m\u001B[38;5;124mgecode\u001B[39m\u001B[38;5;124m\"\u001B[39m, {\u001B[38;5;124m'\u001B[39m\u001B[38;5;124mMaxPeriod_c\u001B[39m\u001B[38;5;124m'\u001B[39m: \u001B[38;5;241m160\u001B[39m}, do_print\u001B[38;5;241m=\u001B[39m\u001B[38;5;28;01mFalse\u001B[39;00m)\n",
      "Input \u001B[0;32mIn [2]\u001B[0m, in \u001B[0;36mrun_instance_async\u001B[0;34m(data_file, solver_name, other_params, do_print)\u001B[0m\n\u001B[1;32m     15\u001B[0m solver \u001B[38;5;241m=\u001B[39m Solver\u001B[38;5;241m.\u001B[39mlookup(solver_name)\n\u001B[1;32m     16\u001B[0m instance \u001B[38;5;241m=\u001B[39m Instance(solver, model)\n\u001B[0;32m---> 17\u001B[0m result \u001B[38;5;241m=\u001B[39m \u001B[38;5;28;01mawait\u001B[39;00m instance\u001B[38;5;241m.\u001B[39msolve_async(intermediate_solutions\u001B[38;5;241m=\u001B[39m\u001B[38;5;28;01mTrue\u001B[39;00m)\n\u001B[1;32m     18\u001B[0m \u001B[38;5;28;01mif\u001B[39;00m \u001B[38;5;28mlen\u001B[39m(result) \u001B[38;5;241m==\u001B[39m \u001B[38;5;241m0\u001B[39m:\n\u001B[1;32m     19\u001B[0m   \u001B[38;5;28mprint\u001B[39m(\u001B[38;5;124m\"\u001B[39m\u001B[38;5;124mWarning no results found\u001B[39m\u001B[38;5;124m\"\u001B[39m)\n",
      "File \u001B[0;32m~/code_projects/AIDM-CHSP/venv/lib/python3.8/site-packages/minizinc/instance.py:170\u001B[0m, in \u001B[0;36mInstance.solve_async\u001B[0;34m(self, timeout, nr_solutions, processes, random_seed, all_solutions, intermediate_solutions, free_search, optimisation_level, **kwargs)\u001B[0m\n\u001B[1;32m    167\u001B[0m \u001B[38;5;28;01mif\u001B[39;00m multiple_solutions:\n\u001B[1;32m    168\u001B[0m     solution \u001B[38;5;241m=\u001B[39m []\n\u001B[0;32m--> 170\u001B[0m \u001B[38;5;28;01masync\u001B[39;00m \u001B[38;5;28;01mfor\u001B[39;00m result \u001B[38;5;129;01min\u001B[39;00m \u001B[38;5;28mself\u001B[39m\u001B[38;5;241m.\u001B[39msolutions(\n\u001B[1;32m    171\u001B[0m     timeout\u001B[38;5;241m=\u001B[39mtimeout,\n\u001B[1;32m    172\u001B[0m     nr_solutions\u001B[38;5;241m=\u001B[39mnr_solutions,\n\u001B[1;32m    173\u001B[0m     processes\u001B[38;5;241m=\u001B[39mprocesses,\n\u001B[1;32m    174\u001B[0m     random_seed\u001B[38;5;241m=\u001B[39mrandom_seed,\n\u001B[1;32m    175\u001B[0m     all_solutions\u001B[38;5;241m=\u001B[39mall_solutions,\n\u001B[1;32m    176\u001B[0m     free_search\u001B[38;5;241m=\u001B[39mfree_search,\n\u001B[1;32m    177\u001B[0m     optimisation_level\u001B[38;5;241m=\u001B[39moptimisation_level,\n\u001B[1;32m    178\u001B[0m     \u001B[38;5;241m*\u001B[39m\u001B[38;5;241m*\u001B[39mkwargs,\n\u001B[1;32m    179\u001B[0m ):\n\u001B[1;32m    180\u001B[0m     status \u001B[38;5;241m=\u001B[39m result\u001B[38;5;241m.\u001B[39mstatus\n\u001B[1;32m    181\u001B[0m     statistics\u001B[38;5;241m.\u001B[39mupdate(result\u001B[38;5;241m.\u001B[39mstatistics)\n",
      "File \u001B[0;32m~/code_projects/AIDM-CHSP/venv/lib/python3.8/site-packages/minizinc/CLI/instance.py:364\u001B[0m, in \u001B[0;36mCLIInstance.solutions\u001B[0;34m(self, timeout, nr_solutions, processes, random_seed, all_solutions, intermediate_solutions, free_search, optimisation_level, verbose, debug_output, **kwargs)\u001B[0m\n\u001B[1;32m    361\u001B[0m read_stderr \u001B[38;5;241m=\u001B[39m asyncio\u001B[38;5;241m.\u001B[39mensure_future(_read_all(proc\u001B[38;5;241m.\u001B[39mstderr))\n\u001B[1;32m    363\u001B[0m \u001B[38;5;28;01mif\u001B[39;00m \u001B[38;5;28mself\u001B[39m\u001B[38;5;241m.\u001B[39m_driver\u001B[38;5;241m.\u001B[39mparsed_version \u001B[38;5;241m>\u001B[39m\u001B[38;5;241m=\u001B[39m (\u001B[38;5;241m2\u001B[39m, \u001B[38;5;241m6\u001B[39m, \u001B[38;5;241m0\u001B[39m):\n\u001B[0;32m--> 364\u001B[0m     \u001B[38;5;28;01masync\u001B[39;00m \u001B[38;5;28;01mfor\u001B[39;00m obj \u001B[38;5;129;01min\u001B[39;00m decode_async_json_stream(\n\u001B[1;32m    365\u001B[0m         proc\u001B[38;5;241m.\u001B[39mstdout, \u001B[38;5;28mcls\u001B[39m\u001B[38;5;241m=\u001B[39mMZNJSONDecoder, enum_map\u001B[38;5;241m=\u001B[39m\u001B[38;5;28mself\u001B[39m\u001B[38;5;241m.\u001B[39m_enum_map\n\u001B[1;32m    366\u001B[0m     ):\n\u001B[1;32m    367\u001B[0m         solution, new_status, statistics \u001B[38;5;241m=\u001B[39m \u001B[38;5;28mself\u001B[39m\u001B[38;5;241m.\u001B[39m_parse_stream_obj(\n\u001B[1;32m    368\u001B[0m             obj, statistics\n\u001B[1;32m    369\u001B[0m         )\n\u001B[1;32m    370\u001B[0m         \u001B[38;5;28;01mif\u001B[39;00m new_status \u001B[38;5;129;01mis\u001B[39;00m \u001B[38;5;129;01mnot\u001B[39;00m \u001B[38;5;28;01mNone\u001B[39;00m:\n",
      "File \u001B[0;32m~/code_projects/AIDM-CHSP/venv/lib/python3.8/site-packages/minizinc/json.py:82\u001B[0m, in \u001B[0;36mdecode_async_json_stream\u001B[0;34m(stream, cls, **kw)\u001B[0m\n\u001B[1;32m     80\u001B[0m \u001B[38;5;28;01mwhile\u001B[39;00m \u001B[38;5;129;01mnot\u001B[39;00m stream\u001B[38;5;241m.\u001B[39mat_eof():\n\u001B[1;32m     81\u001B[0m     \u001B[38;5;28;01mtry\u001B[39;00m:\n\u001B[0;32m---> 82\u001B[0m         buffer \u001B[38;5;241m+\u001B[39m\u001B[38;5;241m=\u001B[39m \u001B[38;5;28;01mawait\u001B[39;00m stream\u001B[38;5;241m.\u001B[39mreaduntil(\u001B[38;5;124mb\u001B[39m\u001B[38;5;124m\"\u001B[39m\u001B[38;5;130;01m\\n\u001B[39;00m\u001B[38;5;124m\"\u001B[39m)\n\u001B[1;32m     83\u001B[0m         buffer \u001B[38;5;241m=\u001B[39m buffer\u001B[38;5;241m.\u001B[39mstrip()\n\u001B[1;32m     84\u001B[0m         \u001B[38;5;28;01mif\u001B[39;00m buffer \u001B[38;5;241m==\u001B[39m \u001B[38;5;124mb\u001B[39m\u001B[38;5;124m\"\u001B[39m\u001B[38;5;124m\"\u001B[39m:\n",
      "File \u001B[0;32m/usr/lib/python3.8/asyncio/streams.py:632\u001B[0m, in \u001B[0;36mStreamReader.readuntil\u001B[0;34m(self, separator)\u001B[0m\n\u001B[1;32m    629\u001B[0m         \u001B[38;5;28;01mraise\u001B[39;00m exceptions\u001B[38;5;241m.\u001B[39mIncompleteReadError(chunk, \u001B[38;5;28;01mNone\u001B[39;00m)\n\u001B[1;32m    631\u001B[0m     \u001B[38;5;66;03m# _wait_for_data() will resume reading if stream was paused.\u001B[39;00m\n\u001B[0;32m--> 632\u001B[0m     \u001B[38;5;28;01mawait\u001B[39;00m \u001B[38;5;28mself\u001B[39m\u001B[38;5;241m.\u001B[39m_wait_for_data(\u001B[38;5;124m'\u001B[39m\u001B[38;5;124mreaduntil\u001B[39m\u001B[38;5;124m'\u001B[39m)\n\u001B[1;32m    634\u001B[0m \u001B[38;5;28;01mif\u001B[39;00m isep \u001B[38;5;241m>\u001B[39m \u001B[38;5;28mself\u001B[39m\u001B[38;5;241m.\u001B[39m_limit:\n\u001B[1;32m    635\u001B[0m     \u001B[38;5;28;01mraise\u001B[39;00m exceptions\u001B[38;5;241m.\u001B[39mLimitOverrunError(\n\u001B[1;32m    636\u001B[0m         \u001B[38;5;124m'\u001B[39m\u001B[38;5;124mSeparator is found, but chunk is longer than limit\u001B[39m\u001B[38;5;124m'\u001B[39m, isep)\n",
      "File \u001B[0;32m/usr/lib/python3.8/asyncio/streams.py:517\u001B[0m, in \u001B[0;36mStreamReader._wait_for_data\u001B[0;34m(self, func_name)\u001B[0m\n\u001B[1;32m    515\u001B[0m \u001B[38;5;28mself\u001B[39m\u001B[38;5;241m.\u001B[39m_waiter \u001B[38;5;241m=\u001B[39m \u001B[38;5;28mself\u001B[39m\u001B[38;5;241m.\u001B[39m_loop\u001B[38;5;241m.\u001B[39mcreate_future()\n\u001B[1;32m    516\u001B[0m \u001B[38;5;28;01mtry\u001B[39;00m:\n\u001B[0;32m--> 517\u001B[0m     \u001B[38;5;28;01mawait\u001B[39;00m \u001B[38;5;28mself\u001B[39m\u001B[38;5;241m.\u001B[39m_waiter\n\u001B[1;32m    518\u001B[0m \u001B[38;5;28;01mfinally\u001B[39;00m:\n\u001B[1;32m    519\u001B[0m     \u001B[38;5;28mself\u001B[39m\u001B[38;5;241m.\u001B[39m_waiter \u001B[38;5;241m=\u001B[39m \u001B[38;5;28;01mNone\u001B[39;00m\n",
      "\u001B[0;31mCancelledError\u001B[0m: "
     ]
    }
   ],
   "source": [
    "# from runMiniZinc import run_instance_async\n",
    "# Cannot call asyncio.run in notebook. So we await the async method here\n",
    "\n",
    "DATA_FOLDER = \"data/dzn/\"\n",
    "files = os.listdir(DATA_FOLDER)\n",
    "objs = []\n",
    "secs = []\n",
    "f = files[0]\n",
    "\n",
    "obj, sec = await run_instance_async(DATA_FOLDER+f, \"gecode\", {'MaxPeriod_c': 9999999}, do_print=False)\n",
    "print(obj, sec)\n",
    "\n",
    "obj, sec = await run_instance_async(DATA_FOLDER+f, \"gecode\", {'MaxPeriod_c': 160}, do_print=False)\n",
    "print(obj, sec)\n"
   ],
   "metadata": {
    "collapsed": false,
    "pycharm": {
     "name": "#%%\n"
    }
   }
  },
  {
   "cell_type": "code",
   "execution_count": null,
   "outputs": [
    {
     "name": "stdout",
     "output_type": "stream",
     "text": [
      "obj 150 sec 12.4769\n",
      "obj 1076 sec 105.963\n"
     ]
    }
   ],
   "source": [
    "import numpy as np\n",
    "\n",
    "# computing outputs and save to file\n",
    "DATA_FOLDER = \"data/dzn/\"\n",
    "files = list(filter(lambda f: f.endswith('dzn'), os.listdir(DATA_FOLDER)))\n",
    "objs = []\n",
    "secs = []\n",
    "for f in files:\n",
    "  obj, sec = await run_instance_async(DATA_FOLDER+f, \"gecode\")\n",
    "  print('obj', obj,'sec', sec)\n",
    "  objs.append(obj)\n",
    "  secs.append(secs)\n",
    "print(objs)\n",
    "np.save('data/solved/dzn_output.npy', {'obj':objs, 'sec':secs})"
   ],
   "metadata": {
    "collapsed": false,
    "pycharm": {
     "name": "#%%\n",
     "is_executing": true
    }
   }
  },
  {
   "cell_type": "markdown",
   "source": [],
   "metadata": {
    "collapsed": false,
    "pycharm": {
     "name": "#%% md\n"
    }
   }
  },
  {
   "cell_type": "code",
   "execution_count": 15,
   "outputs": [
    {
     "name": "stdout",
     "output_type": "stream",
     "text": [
      "t 1-4-1.dzn\n",
      "t 2-1-1.dzn\n",
      "t 2-3-2.dzn\n",
      "t 2-2-1.dzn\n",
      "t 3-1-1.dzn\n",
      "t 2-3-1.dzn\n",
      "t 1-2-1.dzn\n",
      "t 1-2-2.dzn\n",
      "t 2-2-3.dzn\n",
      "t 1-5-1.dzn\n",
      "t 1-3-2.dzn\n",
      "t 1-1-1.dzn\n",
      "t 2-4-1.dzn\n",
      "t 2-3-3.dzn\n",
      "t 2-2-2.dzn\n",
      "t 1-3-1.dzn\n"
     ]
    }
   ],
   "source": [
    "\n",
    "\n",
    "def get_params_of_file(file, folder=DATA_FOLDER):\n",
    "  params = {}\n",
    "  with open(folder+file) as f:\n",
    "    print('t', file)\n",
    "    for line in f:\n",
    "      split = line.split()\n",
    "      param, val = split[0], split[2][:-1]\n",
    "      params[param] = int(val)\n",
    "  return params\n",
    "# Save params to numpy file\n",
    "param_list = []\n",
    "for f in files:\n",
    "  param_list.append(get_params_of_file(f))\n",
    "np.save('data/dzn/dzn.npy', param_list)"
   ],
   "metadata": {
    "collapsed": false,
    "pycharm": {
     "name": "#%%def get_training_data(folder=\"../data/dzn/\"):\n"
    }
   }
  }
 ],
 "metadata": {
  "kernelspec": {
   "display_name": "Python 3",
   "language": "python",
   "name": "python3"
  },
  "language_info": {
   "codemirror_mode": {
    "name": "ipython",
    "version": 2
   },
   "file_extension": ".py",
   "mimetype": "text/x-python",
   "name": "python",
   "nbconvert_exporter": "python",
   "pygments_lexer": "ipython2",
   "version": "2.7.6"
  }
 },
 "nbformat": 4,
 "nbformat_minor": 0
}