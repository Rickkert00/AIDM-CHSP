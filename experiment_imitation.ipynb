{
 "cells": [
  {
   "cell_type": "code",
   "execution_count": 1,
   "metadata": {
    "pycharm": {
     "name": "#%%\n"
    }
   },
   "outputs": [],
   "source": [
    "import networkx as nx\n",
    "from minizinc import Instance, Model, Solver\n",
    "import os"
   ]
  },
  {
   "cell_type": "code",
   "execution_count": 2,
   "metadata": {
    "pycharm": {
     "name": "#%%\n"
    }
   },
   "outputs": [],
   "source": [
    "async def run_instance_async(data_file, solver_name, other_params={}, do_print=True):\n",
    "  params = {'MaxPeriod_c': 1200}\n",
    "  # override default params with other_params\n",
    "  for param, v in other_params.items():\n",
    "    params[param] = v\n",
    "  model = Model(\"modelFiles/wallace-hoist_cpaior20-submission.mzn\")\n",
    "  # Get the model/data files\n",
    "  model.add_file(data_file)\n",
    "  # Add params to model\n",
    "  for param, v in params.items():\n",
    "    model[param] = v\n",
    "  solver = Solver.lookup(solver_name)\n",
    "  instance = Instance(solver, model)\n",
    "  result = await instance.solve_async(intermediate_solutions=True)\n",
    "  if len(result) == 0:\n",
    "    print(\"Warning no results found\")\n",
    "    return -1\n",
    "  return result[len(result) - 1].objective, result.statistics[\"solveTime\"]"
   ]
  },
  {
   "cell_type": "markdown",
   "metadata": {
    "pycharm": {
     "name": "#%% md\n"
    }
   },
   "source": []
  },
  {
   "cell_type": "code",
   "execution_count": 29,
   "metadata": {
    "pycharm": {
     "name": "#%%\n"
    }
   },
   "outputs": [
    {
     "name": "stderr",
     "output_type": "stream",
     "text": [
      "/home/gijs/code_projects/AIDM-CHSP/venv/lib/python3.8/site-packages/minizinc/json.py:91: MiniZincWarning: file \"PU.dzn\" included from library, but also exists in current working directory.\n",
      "  warnings.warn(obj[\"message\"], MiniZincWarning)\n",
      "/home/gijs/code_projects/AIDM-CHSP/venv/lib/python3.8/site-packages/minizinc/json.py:91: MiniZincWarning: variable `k` shadows variable with the same name in line 86.66\n",
      "  warnings.warn(obj[\"message\"], MiniZincWarning)\n"
     ]
    },
    {
     "ename": "CancelledError",
     "evalue": "",
     "output_type": "error",
     "traceback": [
      "\u001b[0;31m---------------------------------------------------------------------------\u001b[0m",
      "\u001b[0;31mCancelledError\u001b[0m                            Traceback (most recent call last)",
      "Input \u001b[0;32mIn [29]\u001b[0m, in \u001b[0;36m<cell line: 10>\u001b[0;34m()\u001b[0m\n\u001b[1;32m      7\u001b[0m secs \u001b[38;5;241m=\u001b[39m []\n\u001b[1;32m      8\u001b[0m f \u001b[38;5;241m=\u001b[39m files[\u001b[38;5;241m0\u001b[39m]\n\u001b[0;32m---> 10\u001b[0m obj, sec \u001b[38;5;241m=\u001b[39m \u001b[38;5;28;01mawait\u001b[39;00m run_instance_async(DATA_FOLDER\u001b[38;5;241m+\u001b[39mf, \u001b[38;5;124m\"\u001b[39m\u001b[38;5;124mgecode\u001b[39m\u001b[38;5;124m\"\u001b[39m, {\u001b[38;5;124m'\u001b[39m\u001b[38;5;124mMaxPeriod_c\u001b[39m\u001b[38;5;124m'\u001b[39m: \u001b[38;5;241m1200\u001b[39m}, do_print\u001b[38;5;241m=\u001b[39m\u001b[38;5;28;01mFalse\u001b[39;00m)\n\u001b[1;32m     11\u001b[0m \u001b[38;5;28mprint\u001b[39m(obj, sec)\n\u001b[1;32m     13\u001b[0m obj, sec \u001b[38;5;241m=\u001b[39m \u001b[38;5;28;01mawait\u001b[39;00m run_instance_async(DATA_FOLDER\u001b[38;5;241m+\u001b[39mf, \u001b[38;5;124m\"\u001b[39m\u001b[38;5;124mgecode\u001b[39m\u001b[38;5;124m\"\u001b[39m, {\u001b[38;5;124m'\u001b[39m\u001b[38;5;124mMaxPeriod_c\u001b[39m\u001b[38;5;124m'\u001b[39m: \u001b[38;5;241m160\u001b[39m}, do_print\u001b[38;5;241m=\u001b[39m\u001b[38;5;28;01mFalse\u001b[39;00m)\n",
      "Input \u001b[0;32mIn [23]\u001b[0m, in \u001b[0;36mrun_instance_async\u001b[0;34m(data_file, solver_name, other_params, do_print)\u001b[0m\n\u001b[1;32m     12\u001b[0m solver \u001b[38;5;241m=\u001b[39m Solver\u001b[38;5;241m.\u001b[39mlookup(solver_name)\n\u001b[1;32m     13\u001b[0m instance \u001b[38;5;241m=\u001b[39m Instance(solver, model)\n\u001b[0;32m---> 14\u001b[0m result \u001b[38;5;241m=\u001b[39m \u001b[38;5;28;01mawait\u001b[39;00m instance\u001b[38;5;241m.\u001b[39msolve_async(intermediate_solutions\u001b[38;5;241m=\u001b[39m\u001b[38;5;28;01mTrue\u001b[39;00m)\n\u001b[1;32m     15\u001b[0m \u001b[38;5;28;01mif\u001b[39;00m \u001b[38;5;28mlen\u001b[39m(result) \u001b[38;5;241m==\u001b[39m \u001b[38;5;241m0\u001b[39m:\n\u001b[1;32m     16\u001b[0m   \u001b[38;5;28mprint\u001b[39m(\u001b[38;5;124m\"\u001b[39m\u001b[38;5;124mWarning no results found\u001b[39m\u001b[38;5;124m\"\u001b[39m)\n",
      "File \u001b[0;32m~/code_projects/AIDM-CHSP/venv/lib/python3.8/site-packages/minizinc/instance.py:170\u001b[0m, in \u001b[0;36mInstance.solve_async\u001b[0;34m(self, timeout, nr_solutions, processes, random_seed, all_solutions, intermediate_solutions, free_search, optimisation_level, **kwargs)\u001b[0m\n\u001b[1;32m    167\u001b[0m \u001b[38;5;28;01mif\u001b[39;00m multiple_solutions:\n\u001b[1;32m    168\u001b[0m     solution \u001b[38;5;241m=\u001b[39m []\n\u001b[0;32m--> 170\u001b[0m \u001b[38;5;28;01masync\u001b[39;00m \u001b[38;5;28;01mfor\u001b[39;00m result \u001b[38;5;129;01min\u001b[39;00m \u001b[38;5;28mself\u001b[39m\u001b[38;5;241m.\u001b[39msolutions(\n\u001b[1;32m    171\u001b[0m     timeout\u001b[38;5;241m=\u001b[39mtimeout,\n\u001b[1;32m    172\u001b[0m     nr_solutions\u001b[38;5;241m=\u001b[39mnr_solutions,\n\u001b[1;32m    173\u001b[0m     processes\u001b[38;5;241m=\u001b[39mprocesses,\n\u001b[1;32m    174\u001b[0m     random_seed\u001b[38;5;241m=\u001b[39mrandom_seed,\n\u001b[1;32m    175\u001b[0m     all_solutions\u001b[38;5;241m=\u001b[39mall_solutions,\n\u001b[1;32m    176\u001b[0m     free_search\u001b[38;5;241m=\u001b[39mfree_search,\n\u001b[1;32m    177\u001b[0m     optimisation_level\u001b[38;5;241m=\u001b[39moptimisation_level,\n\u001b[1;32m    178\u001b[0m     \u001b[38;5;241m*\u001b[39m\u001b[38;5;241m*\u001b[39mkwargs,\n\u001b[1;32m    179\u001b[0m ):\n\u001b[1;32m    180\u001b[0m     status \u001b[38;5;241m=\u001b[39m result\u001b[38;5;241m.\u001b[39mstatus\n\u001b[1;32m    181\u001b[0m     statistics\u001b[38;5;241m.\u001b[39mupdate(result\u001b[38;5;241m.\u001b[39mstatistics)\n",
      "File \u001b[0;32m~/code_projects/AIDM-CHSP/venv/lib/python3.8/site-packages/minizinc/CLI/instance.py:364\u001b[0m, in \u001b[0;36mCLIInstance.solutions\u001b[0;34m(self, timeout, nr_solutions, processes, random_seed, all_solutions, intermediate_solutions, free_search, optimisation_level, verbose, debug_output, **kwargs)\u001b[0m\n\u001b[1;32m    361\u001b[0m read_stderr \u001b[38;5;241m=\u001b[39m asyncio\u001b[38;5;241m.\u001b[39mensure_future(_read_all(proc\u001b[38;5;241m.\u001b[39mstderr))\n\u001b[1;32m    363\u001b[0m \u001b[38;5;28;01mif\u001b[39;00m \u001b[38;5;28mself\u001b[39m\u001b[38;5;241m.\u001b[39m_driver\u001b[38;5;241m.\u001b[39mparsed_version \u001b[38;5;241m>\u001b[39m\u001b[38;5;241m=\u001b[39m (\u001b[38;5;241m2\u001b[39m, \u001b[38;5;241m6\u001b[39m, \u001b[38;5;241m0\u001b[39m):\n\u001b[0;32m--> 364\u001b[0m     \u001b[38;5;28;01masync\u001b[39;00m \u001b[38;5;28;01mfor\u001b[39;00m obj \u001b[38;5;129;01min\u001b[39;00m decode_async_json_stream(\n\u001b[1;32m    365\u001b[0m         proc\u001b[38;5;241m.\u001b[39mstdout, \u001b[38;5;28mcls\u001b[39m\u001b[38;5;241m=\u001b[39mMZNJSONDecoder, enum_map\u001b[38;5;241m=\u001b[39m\u001b[38;5;28mself\u001b[39m\u001b[38;5;241m.\u001b[39m_enum_map\n\u001b[1;32m    366\u001b[0m     ):\n\u001b[1;32m    367\u001b[0m         solution, new_status, statistics \u001b[38;5;241m=\u001b[39m \u001b[38;5;28mself\u001b[39m\u001b[38;5;241m.\u001b[39m_parse_stream_obj(\n\u001b[1;32m    368\u001b[0m             obj, statistics\n\u001b[1;32m    369\u001b[0m         )\n\u001b[1;32m    370\u001b[0m         \u001b[38;5;28;01mif\u001b[39;00m new_status \u001b[38;5;129;01mis\u001b[39;00m \u001b[38;5;129;01mnot\u001b[39;00m \u001b[38;5;28;01mNone\u001b[39;00m:\n",
      "File \u001b[0;32m~/code_projects/AIDM-CHSP/venv/lib/python3.8/site-packages/minizinc/json.py:82\u001b[0m, in \u001b[0;36mdecode_async_json_stream\u001b[0;34m(stream, cls, **kw)\u001b[0m\n\u001b[1;32m     80\u001b[0m \u001b[38;5;28;01mwhile\u001b[39;00m \u001b[38;5;129;01mnot\u001b[39;00m stream\u001b[38;5;241m.\u001b[39mat_eof():\n\u001b[1;32m     81\u001b[0m     \u001b[38;5;28;01mtry\u001b[39;00m:\n\u001b[0;32m---> 82\u001b[0m         buffer \u001b[38;5;241m+\u001b[39m\u001b[38;5;241m=\u001b[39m \u001b[38;5;28;01mawait\u001b[39;00m stream\u001b[38;5;241m.\u001b[39mreaduntil(\u001b[38;5;124mb\u001b[39m\u001b[38;5;124m\"\u001b[39m\u001b[38;5;130;01m\\n\u001b[39;00m\u001b[38;5;124m\"\u001b[39m)\n\u001b[1;32m     83\u001b[0m         buffer \u001b[38;5;241m=\u001b[39m buffer\u001b[38;5;241m.\u001b[39mstrip()\n\u001b[1;32m     84\u001b[0m         \u001b[38;5;28;01mif\u001b[39;00m buffer \u001b[38;5;241m==\u001b[39m \u001b[38;5;124mb\u001b[39m\u001b[38;5;124m\"\u001b[39m\u001b[38;5;124m\"\u001b[39m:\n",
      "File \u001b[0;32m/usr/lib/python3.8/asyncio/streams.py:632\u001b[0m, in \u001b[0;36mStreamReader.readuntil\u001b[0;34m(self, separator)\u001b[0m\n\u001b[1;32m    629\u001b[0m         \u001b[38;5;28;01mraise\u001b[39;00m exceptions\u001b[38;5;241m.\u001b[39mIncompleteReadError(chunk, \u001b[38;5;28;01mNone\u001b[39;00m)\n\u001b[1;32m    631\u001b[0m     \u001b[38;5;66;03m# _wait_for_data() will resume reading if stream was paused.\u001b[39;00m\n\u001b[0;32m--> 632\u001b[0m     \u001b[38;5;28;01mawait\u001b[39;00m \u001b[38;5;28mself\u001b[39m\u001b[38;5;241m.\u001b[39m_wait_for_data(\u001b[38;5;124m'\u001b[39m\u001b[38;5;124mreaduntil\u001b[39m\u001b[38;5;124m'\u001b[39m)\n\u001b[1;32m    634\u001b[0m \u001b[38;5;28;01mif\u001b[39;00m isep \u001b[38;5;241m>\u001b[39m \u001b[38;5;28mself\u001b[39m\u001b[38;5;241m.\u001b[39m_limit:\n\u001b[1;32m    635\u001b[0m     \u001b[38;5;28;01mraise\u001b[39;00m exceptions\u001b[38;5;241m.\u001b[39mLimitOverrunError(\n\u001b[1;32m    636\u001b[0m         \u001b[38;5;124m'\u001b[39m\u001b[38;5;124mSeparator is found, but chunk is longer than limit\u001b[39m\u001b[38;5;124m'\u001b[39m, isep)\n",
      "File \u001b[0;32m/usr/lib/python3.8/asyncio/streams.py:517\u001b[0m, in \u001b[0;36mStreamReader._wait_for_data\u001b[0;34m(self, func_name)\u001b[0m\n\u001b[1;32m    515\u001b[0m \u001b[38;5;28mself\u001b[39m\u001b[38;5;241m.\u001b[39m_waiter \u001b[38;5;241m=\u001b[39m \u001b[38;5;28mself\u001b[39m\u001b[38;5;241m.\u001b[39m_loop\u001b[38;5;241m.\u001b[39mcreate_future()\n\u001b[1;32m    516\u001b[0m \u001b[38;5;28;01mtry\u001b[39;00m:\n\u001b[0;32m--> 517\u001b[0m     \u001b[38;5;28;01mawait\u001b[39;00m \u001b[38;5;28mself\u001b[39m\u001b[38;5;241m.\u001b[39m_waiter\n\u001b[1;32m    518\u001b[0m \u001b[38;5;28;01mfinally\u001b[39;00m:\n\u001b[1;32m    519\u001b[0m     \u001b[38;5;28mself\u001b[39m\u001b[38;5;241m.\u001b[39m_waiter \u001b[38;5;241m=\u001b[39m \u001b[38;5;28;01mNone\u001b[39;00m\n",
      "\u001b[0;31mCancelledError\u001b[0m: "
     ]
    }
   ],
   "source": [
    "# from runMiniZinc import run_instance_async\n",
    "# Cannot call asyncio.run in notebook. So we await the async method here\n",
    "\n",
    "DATA_FOLDER = \"data/dzn/\"\n",
    "files = os.listdir(DATA_FOLDER)\n",
    "objs = []\n",
    "secs = []\n",
    "f = files[0]\n",
    "\n",
    "obj, sec = await run_instance_async(DATA_FOLDER+f, \"gurobi\", {'MaxPeriod_c': 9999999}, do_print=False)\n",
    "print(obj, sec)\n",
    "\n",
    "obj, sec = await run_instance_async(DATA_FOLDER+f, \"gurobi\", {'MaxPeriod_c': 160}, do_print=False)\n",
    "print(obj, sec)\n"
   ]
  },
  {
   "cell_type": "code",
   "execution_count": null,
   "metadata": {
    "pycharm": {
     "name": "#%%\n"
    }
   },
   "outputs": [],
   "source": [
    "from concurrent.futures import ProcessPoolExecutor\n",
    "import asyncio\n",
    "import numpy as np\n",
    "\n",
    "# computing outputs and save to file\n",
    "DATA_FOLDER = \"data/dzn/\"\n",
    "files = list(filter(lambda f: f.endswith('dzn'), os.listdir(DATA_FOLDER)))\n",
    "objs = []\n",
    "secs = []\n",
    "def run(f):\n",
    "  return asyncio.run(run_instance_async(DATA_FOLDER+f, \"gecode\"))\n",
    "\n",
    "loop = asyncio.get_event_loop()\n",
    "p = ProcessPoolExecutor(8)\n",
    "loops = []\n",
    "for f in files:\n",
    "  loops.append(loop.run_in_executor(p, run, f))\n",
    "dnz_output_file = 'data/solved/dzn_output1000.npy'\n",
    "for l in loops:\n",
    "   ret = await l\n",
    "   obj, sec = ret if ret != -1 else (-1,-1)\n",
    "   objs.append(obj)\n",
    "   secs.append(sec)\n",
    "   print(objs)\n",
    "   np.save(dnz_output_file, {'obj':objs, 'sec':secs})"
   ]
  },
  {
   "cell_type": "markdown",
   "metadata": {
    "pycharm": {
     "name": "#%% md\n"
    }
   },
   "source": []
  },
  {
   "cell_type": "code",
   "execution_count": 6,
   "metadata": {
    "pycharm": {
     "name": "#%%\n"
    }
   },
   "outputs": [
    {
     "name": "stdout",
     "output_type": "stream",
     "text": [
      "{'objective': 7479, 'r': [0, 523, 553, 3232, 20, 3259], 'p': 7479, 'hoist': [1, 1, 1, 1, 1, 1], 'B': [0, 1, 0, 1, 0]}\n"
     ]
    }
   ],
   "source": [
    "# dnz_output_file = 'data/solved/dzn_output.npy'\n",
    "# dnz_output_file = 'data/solved/dzn_output.npy'\n",
    "# multiplier 1\n",
    "# hoists [1, 1, 1, 1]\n",
    "# removal times [0, 170, 183, 246]\n",
    "# sorted removal times [0, 170, 183, 246]\n",
    "# period 343\n",
    "# B [0, 1, 0]\n",
    "# jobs 1\n",
    "# Duration: 1.249 seconds\n",
    "# Solver: gecode\n",
    "import os\n",
    "import numpy as np\n",
    "\n",
    "DATA_FOLDER = \"chsp-generators-main/instances/linear_solutions/\"\n",
    "files = os.listdir(DATA_FOLDER)\n",
    "for f in files:\n",
    "  if f.endswith('npy'):\n",
    "    print(np.load(DATA_FOLDER+f, allow_pickle=True))\n",
    "# np.save('data')"
   ]
  },
  {
   "cell_type": "code",
   "execution_count": 15,
   "metadata": {
    "pycharm": {
     "name": "#%%def get_training_data(folder=\"../data/dzn/\"):\n"
    }
   },
   "outputs": [
    {
     "name": "stdout",
     "output_type": "stream",
     "text": [
      "t 1-4-1.dzn\n",
      "t 2-1-1.dzn\n",
      "t 2-3-2.dzn\n",
      "t 2-2-1.dzn\n",
      "t 3-1-1.dzn\n",
      "t 2-3-1.dzn\n",
      "t 1-2-1.dzn\n",
      "t 1-2-2.dzn\n",
      "t 2-2-3.dzn\n",
      "t 1-5-1.dzn\n",
      "t 1-3-2.dzn\n",
      "t 1-1-1.dzn\n",
      "t 2-4-1.dzn\n",
      "t 2-3-3.dzn\n",
      "t 2-2-2.dzn\n",
      "t 1-3-1.dzn\n"
     ]
    }
   ],
   "source": [
    "\n",
    "\n",
    "def get_params_of_file(file, folder=DATA_FOLDER):\n",
    "  params = {}\n",
    "  with open(folder+file) as f:\n",
    "    print('t', file)\n",
    "    for line in f:\n",
    "      split = line.split()\n",
    "      param, val = split[0], split[2][:-1]\n",
    "      params[param] = int(val)\n",
    "  return params\n",
    "# Save params to numpy file\n",
    "param_list = []\n",
    "for f in files:\n",
    "  param_list.append(get_params_of_file(f))\n",
    "np.save('data/dzn/dzn.npy', param_list)"
   ]
  },
  {
   "cell_type": "code",
   "execution_count": 2,
   "metadata": {
    "pycharm": {
     "name": "#%%load_graph_data()\n"
    }
   },
   "outputs": [],
   "source": [
    "from imitation_learning.train import load_graph_data\n",
    "path = './chsp-generators-main/instances/linear_solutions.npy'\n",
    "training, test = load_graph_data(path)"
   ]
  },
  {
   "cell_type": "code",
   "execution_count": 14,
   "metadata": {
    "pycharm": {
     "name": "#%%\n"
    }
   },
   "outputs": [
    {
     "data": {
      "text/plain": [
       "Graph(num_nodes=5, num_edges=25,\n",
       "      ndata_schemes={'x': Scheme(shape=(3,), dtype=torch.float32)}\n",
       "      edata_schemes={'w': Scheme(shape=(1,), dtype=torch.float32)})"
      ]
     },
     "execution_count": 14,
     "metadata": {},
     "output_type": "execute_result"
    },
    {
     "data": {
      "image/png": "[encoded data removed]",
      "text/plain": [
       "<Figure size 432x288 with 1 Axes>"
      ]
     },
     "metadata": {},
     "output_type": "display_data"
    }
   ],
   "source": [
    "import networkx as nx\n",
    "g_x = training[0][0].to_networkx()\n",
    "nx.draw_networkx(g_x)\n"
   ]
  },
  {
   "cell_type": "code",
   "execution_count": 20,
   "metadata": {},
   "outputs": [
    {
     "data": {
      "text/plain": [
       "array([tensor([[110.,  39.,  56., 178.]]),\n",
       "       tensor([[106.,  24.,  36., 146.]]),\n",
       "       tensor([[ 14.,  92., 109., 132.]]),\n",
       "       tensor([[ 91.,  99., 113., 143.]]),\n",
       "       tensor([[ 58.,  79., 145., 167.]]),\n",
       "       tensor([[   6., 1626., 4757., 5346.]]),\n",
       "       tensor([[ 208., 1983., 2006., 4742.]]),\n",
       "       tensor([[   5.,   11.,  227., 1347.]]),\n",
       "       tensor([[   9.,  827., 2537., 3176.]]),\n",
       "       tensor([[1126., 1139., 1879., 3874.]]),\n",
       "       tensor([[  39., 5168., 5196., 7608.]]),\n",
       "       tensor([[  9., 109., 118., 242.]]),\n",
       "       tensor([[136., 237., 248., 328.]]),\n",
       "       tensor([[ 12., 176., 250., 284.]]),\n",
       "       tensor([[ 12.,  37.,  63., 203.]]),\n",
       "       tensor([[  5.,  11.,  59., 156.]]),\n",
       "       tensor([[107.,  48.,  65., 154.]]),\n",
       "       tensor([[   7.,  876., 3680., 4055.]]),\n",
       "       tensor([[  10.,  236.,  344., 1527.]])], dtype=object)"
      ]
     },
     "execution_count": 20,
     "metadata": {},
     "output_type": "execute_result"
    }
   ],
   "source": [
    "import numpy as np\n",
    "\n",
    "training = np.array(training, dtype=object)\n",
    "training[1:20,1]"
   ]
  },
  {
   "cell_type": "code",
   "execution_count": 175,
   "metadata": {
    "pycharm": {
     "name": "#%%\n"
    }
   },
   "outputs": [
    {
     "name": "stdout",
     "output_type": "stream",
     "text": [
      "torch.Size([5, 1, 3])\n",
      "torch.Size([5, 3])\n"
     ]
    },
    {
     "data": {
      "text/plain": [
       "(tensor([[[-444.2279,   74.5986, -197.7197]],\n",
       " \n",
       "         [[-444.2279,   74.5986, -197.7197]],\n",
       " \n",
       "         [[-444.2279,   74.5986, -197.7197]],\n",
       " \n",
       "         [[-444.2279,   74.5986, -197.7197]],\n",
       " \n",
       "         [[-444.2279,   74.5986, -197.7197]]], grad_fn=<ViewBackward0>),\n",
       " tensor([[ 31.7720],\n",
       "         [417.2596],\n",
       "         [359.9719],\n",
       "         [683.5318],\n",
       "         [ 16.3583],\n",
       "         [128.5764],\n",
       "         [522.4540],\n",
       "         [465.1663],\n",
       "         [788.7261],\n",
       "         [117.3577],\n",
       "         [107.7470],\n",
       "         [501.6246],\n",
       "         [452.7267],\n",
       "         [776.2867],\n",
       "         [100.7233],\n",
       "         [177.3656],\n",
       "         [571.2432],\n",
       "         [522.3453],\n",
       "         [854.2951],\n",
       "         [174.5368],\n",
       "         [ 15.4136],\n",
       "         [405.0963],\n",
       "         [352.0034],\n",
       "         [679.7583],\n",
       "         [  0.0000]], grad_fn=<ReshapeAliasBackward0>))"
      ]
     },
     "execution_count": 175,
     "metadata": {},
     "output_type": "execute_result"
    }
   ],
   "source": [
    "import dgl\n",
    "import numpy as np\n",
    "import torch as th\n",
    "from dgl.nn import EGATConv\n",
    "num_nodes, num_edges = 5, 25\n",
    "graph = training[1][0]\n",
    "# generate a graph\n",
    "# graph = dgl.rand_graph(num_nodes,num_edges)\n",
    "node_data = graph.ndata['x']\n",
    "# node_data[0][1] = 0\n",
    "# node_data[-1][1] = 0\n",
    "node_feats = th.rand((num_nodes, 3))\n",
    "edge_feats = th.rand((num_edges, 1))\n",
    "num_heads = 1\n",
    "outputs = (3,1)\n",
    "egat = EGATConv(in_node_feats=3,\n",
    "                in_edge_feats=1,\n",
    "                out_node_feats=outputs[0],\n",
    "                out_edge_feats=outputs[1],\n",
    "                num_heads=num_heads)\n",
    "\n",
    "#forward pass\n",
    "output_shape1 = np.array(outputs)*num_heads\n",
    "nodes, edges = output_shape1\n",
    "\n",
    "new_node_feats, new_edge_feats = egat(graph, graph.ndata['x'], graph.edata['w'])\n",
    "# new_node_feats, new_edge_feats = egat(graph, node_feats, edge_feats)\n",
    "new_node_feats2 = new_node_feats.reshape(-1, nodes)\n",
    "new_edge_feats = new_edge_feats.reshape(-1, edges)\n",
    "print(new_node_feats.shape)\n",
    "print(new_node_feats2.shape)\n",
    "# new_node_feats, new_edge_feats = egat(graph, new_node_feats, new_edge_feats)\n",
    "# new_node_feats, new_edge_feats = egat(graph, new_node_feats, new_edge_feats)\n",
    "# new_node_feats.shape, new_edge_feats.shape\n",
    "new_node_feats, new_edge_feats\n",
    "# node_data[0][1]\n",
    "# graph.ndata['x']"
   ]
  }
 ],
 "metadata": {
  "kernelspec": {
   "display_name": "Python 3 (ipykernel)",
   "language": "python",
   "name": "python3"
  },
  "language_info": {
   "codemirror_mode": {
    "name": "ipython",
    "version": 3
   },
   "file_extension": ".py",
   "mimetype": "text/x-python",
   "name": "python",
   "nbconvert_exporter": "python",
   "pygments_lexer": "ipython3",
   "version": "3.8.10"
  }
 },
 "nbformat": 4,
 "nbformat_minor": 1
}
