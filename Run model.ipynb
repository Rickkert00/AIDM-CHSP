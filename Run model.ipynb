{
 "cells": [
  {
   "cell_type": "code",
   "execution_count": 3,
   "id": "394fc584",
   "metadata": {},
   "outputs": [
    {
     "name": "stdout",
     "output_type": "stream",
     "text": [
      "loading chsp-generators-main/instances/linear_solutions_1.npy\n",
      "Shape input (2994, 2)\n",
      "Loading model:  model_315.pt\n"
     ]
    }
   ],
   "source": [
    "from imitation_learning.neural_network import RemovalTimePredictor\n",
    "import os\n",
    "import torch\n",
    "import re\n",
    "from imitation_learning.train import load_graph_data\n",
    "\n",
    "def load_model(folder, model_file_name=None, device='cpu'):\n",
    "    full_folder  ='work_dir/'+folder\n",
    "    if model_file_name is None:\n",
    "        # Get latest file\n",
    "        dirFiles = os.listdir(full_folder)\n",
    "\n",
    "        def key(f):\n",
    "            return int(re.sub('\\D', '', f.split('_')[1]))\n",
    "        print(dirFiles)\n",
    "        # get number from file name CNN_04-21-2021-14-46-05_1000 -> 04212021144605 and sort on that number\n",
    "        dirFiles.sort(key=key)\n",
    "        model_file_name = dirFiles[-1]\n",
    "    print(\"Loading model: \", model_file_name)\n",
    "    path = full_folder + \"/\" + model_file_name\n",
    "    model = RemovalTimePredictor()\n",
    "    model.load_state_dict(torch.load(path))\n",
    "    model.eval()\n",
    "    return model\n",
    "base_path = 'chsp-generators-main/instances/'\n",
    "files = [base_path+f\"linear_solutions_{i}.npy\" for i in range(1,2)] # Can choose other solution files\n",
    "train_set, test_set = load_graph_data(files)\n",
    "\n",
    "model = load_model('exp-s1-idrandom_split_big3', model_file_name='model_315.pt') # Model trained on many data.\n",
    "model = load_model('exp-s1-idrandom_split', model_file_name='model_915.pt') # Model trained on less data but longer and performs better\n"
   ]
  },
  {
   "cell_type": "code",
   "execution_count": 8,
   "id": "ae3ab67f",
   "metadata": {},
   "outputs": [
    {
     "name": "stdout",
     "output_type": "stream",
     "text": [
      "prediction tensor([1705.5543, 1558.6638, 1840.1641, 1207.6683, 1726.2906, 1862.4122,\n",
      "        1786.8778, 2151.4932, 1785.3507, 2149.9883, 1618.1772,  897.1947,\n",
      "         969.8412,  878.0824, 3344.5002, 3535.4910, 4122.8486],\n",
      "       grad_fn=<SelectBackward0>)\n",
      "labels tensor([[2247., 1160., 2509., 1664., 3218., 1272.,  994.,  826., 3674., 1446.,\n",
      "         2037.,  200.,  322.,  618., 3502., 3905., 4331.]])\n",
      "prediction 17\n",
      "labels 17\n"
     ]
    },
    {
     "data": {
      "text/plain": [
       "(None, None)"
      ]
     },
     "execution_count": 8,
     "metadata": {},
     "output_type": "execute_result"
    }
   ],
   "source": [
    "from torch import nn, optim\n",
    "criterion = nn.MSELoss()\n",
    "# Select data here\n",
    "data = train_set[0]\n",
    "graph_inputs, labels = data\n",
    "\n",
    "output, edges = model(graph_inputs, graph_inputs.ndata['x'], graph_inputs.edata['w'])\n",
    "prediction = edges[1:graph_inputs.num_nodes(), 0, 0]\n",
    "print(\"prediction\", prediction), print(\"labels\", labels)\n",
    "print(\"prediction\", len(prediction)), print(\"labels\", len(labels[0]))\n",
    "\n",
    "criterion(padded_output/divide, labels/divide)"
   ]
  }
 ],
 "metadata": {
  "kernelspec": {
   "display_name": "Python 3 (ipykernel)",
   "language": "python",
   "name": "python3"
  },
  "language_info": {
   "codemirror_mode": {
    "name": "ipython",
    "version": 3
   },
   "file_extension": ".py",
   "mimetype": "text/x-python",
   "name": "python",
   "nbconvert_exporter": "python",
   "pygments_lexer": "ipython3",
   "version": "3.8.10"
  }
 },
 "nbformat": 4,
 "nbformat_minor": 5
}
