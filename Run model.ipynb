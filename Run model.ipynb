{
 "cells": [
  {
   "cell_type": "code",
   "execution_count": 1,
   "id": "ac4d539a",
   "metadata": {},
   "outputs": [
    {
     "name": "stdout",
     "output_type": "stream",
     "text": [
      "Loading model:  model_315.pt\n",
      "Loading model:  model_915.pt\n"
     ]
    }
   ],
   "source": [
    "from imitation_learning.neural_network import RemovalTimePredictor\n",
    "import os\n",
    "import torch\n",
    "import re\n",
    "from imitation_learning.train import load_graph_data\n",
    "\n",
    "def load_model(folder, model_file_name=None, device='cpu'):\n",
    "    full_folder  ='work_dir/'+folder\n",
    "    if model_file_name is None:\n",
    "        # Get latest file\n",
    "        dirFiles = os.listdir(full_folder)\n",
    "\n",
    "        def key(f):\n",
    "            return int(re.sub('\\D', '', f.split('_')[1]))\n",
    "        print(dirFiles)\n",
    "        # get number from file name CNN_04-21-2021-14-46-05_1000 -> 04212021144605 and sort on that number\n",
    "        dirFiles.sort(key=key)\n",
    "        model_file_name = dirFiles[-1]\n",
    "    print(\"Loading model: \", model_file_name)\n",
    "    path = full_folder + \"/\" + model_file_name\n",
    "    model = RemovalTimePredictor()\n",
    "    model.load_state_dict(torch.load(path))\n",
    "    model.eval()\n",
    "    return model\n",
    "base_path = 'chsp-generators-main/instances/'\n",
    "files = [base_path+f\"linear_solutions_{i}.npy\" for i in range(1,2)] # Can choose other solution files\n",
    "\n",
    "model = load_model('exp-s1-idrandom_split_big3', model_file_name='model_315.pt') # Model trained on many data.\n",
    "model = load_model('exp-s1-idrandom_split', model_file_name='model_915.pt') # Model trained on less data but longer and performs better\n"
   ]
  },
  {
   "cell_type": "code",
   "execution_count": 2,
   "id": "91b2467b",
   "metadata": {},
   "outputs": [
    {
     "name": "stdout",
     "output_type": "stream",
     "text": [
      "loading chsp-generators-main/instances/linear_solutions_1.npy\n",
      "Shape input (2994, 2)\n",
      "prediction tensor([229.8911, 299.7462, 350.8931, 673.4486, 429.4846, 647.4657, 875.1756],\n",
      "       grad_fn=<SelectBackward0>)\n",
      "labels tensor([224., 343., 395., 700., 433., 612., 845.])\n",
      "prediction 7\n",
      "labels 7\n"
     ]
    },
    {
     "data": {
      "text/plain": [
       "Graph(num_nodes=8, num_edges=64,\n",
       "      ndata_schemes={'x': Scheme(shape=(3,), dtype=torch.float32)}\n",
       "      edata_schemes={'w': Scheme(shape=(1,), dtype=torch.float32)})"
      ]
     },
     "execution_count": 2,
     "metadata": {},
     "output_type": "execute_result"
    }
   ],
   "source": [
    "from math import sqrt\n",
    "import numpy as np\n",
    "from torch import nn, optim\n",
    "criterion = nn.MSELoss()\n",
    "train_set, test_set, training_input_data = load_graph_data(files)\n",
    "\n",
    "\n",
    "# Select data here\n",
    "data = train_set[0]\n",
    "graph_inputs, labels = data\n",
    "\n",
    "output, edges = model(graph_inputs, graph_inputs.ndata['x'], graph_inputs.edata['w'])\n",
    "prediction = edges[1:graph_inputs.num_nodes(), 0, 0]\n",
    "print(\"prediction\", prediction), print(\"labels\", labels[0])\n",
    "print(\"prediction\", len(prediction)), print(\"labels\", len(labels[0]))\n",
    "\n",
    "\"RMSE: \" + str(sqrt(criterion(prediction, labels[0])))\n",
    "graph_inputs"
   ]
  },
  {
   "cell_type": "code",
   "execution_count": 8,
   "id": "d67120e2",
   "metadata": {},
   "outputs": [
    {
     "data": {
      "text/plain": [
       "('Problem input:',\n",
       " {'Ninner': 6,\n",
       "  'tmin': [470, 790, 539, 211, 413, 680],\n",
       "  'tmax': [1132, 7284, 3853, 1685, 613, 3059],\n",
       "  'f': [224, 119, 52, 31, 100, 179, 50],\n",
       "  'e': array([[16,  0,  9, 13, 22, 29, 42],\n",
       "         [25,  9,  0,  4, 13, 20, 33],\n",
       "         [29, 13,  4,  0,  9, 16, 29],\n",
       "         [38, 22, 13,  9,  0,  7, 20],\n",
       "         [45, 29, 20, 16,  7,  0, 13],\n",
       "         [58, 42, 33, 29, 20, 13,  0],\n",
       "         [ 0, 16, 25, 29, 38, 45, 58]]),\n",
       "  'emptys': [16, 9, 4, 9, 7, 13, 13]})"
      ]
     },
     "execution_count": 8,
     "metadata": {},
     "output_type": "execute_result"
    }
   ],
   "source": [
    "\"Problem input:\", training_input_data[0]"
   ]
  }
 ],
 "metadata": {
  "kernelspec": {
   "display_name": "Python 3 (ipykernel)",
   "language": "python",
   "name": "python3"
  },
  "language_info": {
   "codemirror_mode": {
    "name": "ipython",
    "version": 3
   },
   "file_extension": ".py",
   "mimetype": "text/x-python",
   "name": "python",
   "nbconvert_exporter": "python",
   "pygments_lexer": "ipython3",
   "version": "3.8.10"
  }
 },
 "nbformat": 4,
 "nbformat_minor": 5
}
